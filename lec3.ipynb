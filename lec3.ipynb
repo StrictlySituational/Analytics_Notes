{
 "cells": [
  {
   "cell_type": "markdown",
   "metadata": {},
   "source": [
    "## Loops"
   ]
  },
  {
   "cell_type": "markdown",
   "metadata": {},
   "source": [
    "Loops are meant for executeing one or more statements repeatedly up to a desired number of times (for loops) or until a certain condition is satisfied (while loops)"
   ]
  },
  {
   "cell_type": "markdown",
   "metadata": {},
   "source": [
    "# For Loops\n",
    "It can iterate based on certain number of iterations or based on elements in the list"
   ]
  },
  {
   "cell_type": "code",
   "execution_count": 1,
   "metadata": {},
   "outputs": [
    {
     "name": "stdout",
     "output_type": "stream",
     "text": [
      "hello\n",
      "hello\n",
      "hello\n",
      "hello\n"
     ]
    }
   ],
   "source": [
    "for i in range(4):\n",
    "    print('hello')"
   ]
  },
  {
   "cell_type": "markdown",
   "metadata": {},
   "source": [
    "Technically, it is looping on the elements of the list until it finishes them"
   ]
  },
  {
   "cell_type": "code",
   "execution_count": 18,
   "metadata": {},
   "outputs": [
    {
     "name": "stdout",
     "output_type": "stream",
     "text": [
      "1\n",
      "2\n",
      "------\n",
      "2\n",
      "3\n",
      "------\n",
      "3\n",
      "4\n",
      "------\n",
      "4\n",
      "5\n",
      "------\n",
      "======\n"
     ]
    }
   ],
   "source": [
    "for i in [1,2,3,4]:\n",
    "    print(i)\n",
    "    print(i+1)\n",
    "    print('------')\n",
    "print('======')"
   ]
  },
  {
   "cell_type": "code",
   "execution_count": 4,
   "metadata": {},
   "outputs": [
    {
     "name": "stdout",
     "output_type": "stream",
     "text": [
      "2\n",
      "5\n",
      "-3\n",
      "15\n",
      "20\n",
      "now method2 -------\n",
      "2\n",
      "5\n",
      "-3\n",
      "15\n",
      "20\n"
     ]
    }
   ],
   "source": [
    "list1=[2,5,-3,15,20]\n",
    "for item in list1:\n",
    "    print(item)\n",
    "print(\"now method2 -------\")\n",
    "for i in range(len(list1)):\n",
    "    print(list1[i])"
   ]
  },
  {
   "cell_type": "markdown",
   "metadata": {},
   "source": [
    "# While Loop\n",
    "Loop until a certain condition is broke, i.e. keep repeating bunch of statments as long as certain condition is True "
   ]
  },
  {
   "cell_type": "code",
   "execution_count": 21,
   "metadata": {},
   "outputs": [
    {
     "name": "stdout",
     "output_type": "stream",
     "text": [
      "dizzy\n",
      "dizzy\n",
      "dizzy\n",
      "dizzy\n",
      "dizzy\n"
     ]
    },
    {
     "ename": "KeyboardInterrupt",
     "evalue": "",
     "output_type": "error",
     "traceback": [
      "\u001b[0;31m---------------------------------------------------------------------------\u001b[0m",
      "\u001b[0;31mKeyboardInterrupt\u001b[0m                         Traceback (most recent call last)",
      "\u001b[0;32m<ipython-input-21-ccd773b8baff>\u001b[0m in \u001b[0;36m<module>\u001b[0;34m()\u001b[0m\n\u001b[1;32m      3\u001b[0m \u001b[0;32mwhile\u001b[0m \u001b[0;32mTrue\u001b[0m\u001b[0;34m:\u001b[0m\u001b[0;34m\u001b[0m\u001b[0m\n\u001b[1;32m      4\u001b[0m     \u001b[0mprint\u001b[0m \u001b[0;34m(\u001b[0m\u001b[0;34m'dizzy'\u001b[0m\u001b[0;34m)\u001b[0m\u001b[0;34m\u001b[0m\u001b[0m\n\u001b[0;32m----> 5\u001b[0;31m     \u001b[0mtime\u001b[0m\u001b[0;34m.\u001b[0m\u001b[0msleep\u001b[0m\u001b[0;34m(\u001b[0m\u001b[0;36m1\u001b[0m\u001b[0;34m)\u001b[0m\u001b[0;34m\u001b[0m\u001b[0m\n\u001b[0m",
      "\u001b[0;31mKeyboardInterrupt\u001b[0m: "
     ]
    }
   ],
   "source": [
    "import time\n",
    "\n",
    "while True:       # this is an infinite loop\n",
    "    print ('dizzy')\n",
    "    time.sleep(1)"
   ]
  },
  {
   "cell_type": "code",
   "execution_count": 22,
   "metadata": {},
   "outputs": [
    {
     "name": "stdout",
     "output_type": "stream",
     "text": [
      "dizzy\n",
      "dizzy\n",
      "dizzy\n",
      "dizzy\n",
      "dizzy\n",
      "dizzy\n"
     ]
    }
   ],
   "source": [
    "num_times = 0\n",
    "while num_times <= 5:\n",
    "    print ('dizzy')\n",
    "    num_times = num_times + 1\n",
    "    time.sleep(1)"
   ]
  },
  {
   "cell_type": "markdown",
   "metadata": {},
   "source": [
    "# Flow Control"
   ]
  },
  {
   "cell_type": "markdown",
   "metadata": {},
   "source": [
    "The if condition helps you excute certain statements and skip other. The syntax goes as \n",
    "\n",
    ">if(condition):\n",
    ">\n",
    ">       statement\n",
    "\n",
    "\n",
    "It can also  be written as \n",
    "\n",
    ">if condition:\n",
    ">\n",
    ">          statement\n",
    ">elif another condition:\n",
    ">\n",
    ">           statement\n",
    ">elif another condition:\n",
    ">\n",
    ">           statement\n",
    ">else:\n",
    ">\n",
    ">           statement\n",
    "\n",
    "\n",
    "elif means else if \n",
    "\n",
    "condition are > or < or ==\n",
    "\n",
    "you can also mix between conditions using and/or statements\n",
    "    "
   ]
  },
  {
   "cell_type": "code",
   "execution_count": 1,
   "metadata": {},
   "outputs": [
    {
     "name": "stdout",
     "output_type": "stream",
     "text": [
      "I have a hunger for learning Python\n"
     ]
    }
   ],
   "source": [
    "hungry = True\n",
    "if hungry == True:\n",
    "    print('I have a hunger for learning Python')\n",
    "else:\n",
    "    print('I will be hungry at 10pm')"
   ]
  },
  {
   "cell_type": "code",
   "execution_count": 2,
   "metadata": {
    "scrolled": true
   },
   "outputs": [
    {
     "name": "stdout",
     "output_type": "stream",
     "text": [
      "Can you play soccer?\n"
     ]
    }
   ],
   "source": [
    "tall = False\n",
    "fast = True\n",
    "if tall and fast:\n",
    "    print('Can you play basketball?')\n",
    "elif not tall and fast:\n",
    "    print('Can you play soccer?')\n",
    "elif not tall and not fast:\n",
    "    print('Can you play golf?')\n",
    "else:\n",
    "    print('Can you swim?')"
   ]
  },
  {
   "cell_type": "code",
   "execution_count": 23,
   "metadata": {},
   "outputs": [
    {
     "name": "stdout",
     "output_type": "stream",
     "text": [
      "False  :  ['tiger']\n",
      "True  :  ['tiger', 'elephant', 'lion']\n",
      "False  :  ['squirrels', 'penguins']\n"
     ]
    }
   ],
   "source": [
    "# write a function that takes a list as input \n",
    "# and checks if it contains the 'elephant'\n",
    "# outputs true if yes, false if no\n",
    "# implement this using a LOOP (not using 'in' keyword)\n",
    "zoo = ['tiger'] #, 'elephant', 'lion']\n",
    "def contains_elephant2(a_zoo):\n",
    "    for animal in a_zoo:\n",
    "        if animal == 'elephant':\n",
    "            return True\n",
    "    return False\n",
    "zoo1 = zoo\n",
    "zoo2 = ['tiger', 'elephant', 'lion']\n",
    "print( contains_elephant2(zoo1), ' : ',zoo1 )\n",
    "print( contains_elephant2(zoo2), ' : ',zoo2 )\n",
    "print( contains_elephant2(zoo3), ' : ',zoo3 )"
   ]
  },
  {
   "cell_type": "markdown",
   "metadata": {},
   "source": [
    "# Break and Continue Statements"
   ]
  },
  {
   "cell_type": "markdown",
   "metadata": {},
   "source": [
    "Break: breaks out of the loop completely \n",
    "<br>\n",
    "Continue: skips an iteration of the loop"
   ]
  },
  {
   "cell_type": "code",
   "execution_count": 3,
   "metadata": {},
   "outputs": [
    {
     "name": "stdout",
     "output_type": "stream",
     "text": [
      "1\n",
      "2\n",
      "3\n",
      "4\n",
      "5\n"
     ]
    }
   ],
   "source": [
    "numbers = [1,2,3,4,5,10, 11, 15]\n",
    "for a_number in numbers:\n",
    "    print(a_number)\n",
    "    if a_number == 5:\n",
    "        break"
   ]
  },
  {
   "cell_type": "code",
   "execution_count": 4,
   "metadata": {
    "scrolled": true
   },
   "outputs": [
    {
     "name": "stdout",
     "output_type": "stream",
     "text": [
      "1\n",
      "3\n",
      "5\n",
      "11\n",
      "15\n"
     ]
    }
   ],
   "source": [
    "for a_number in numbers:\n",
    "    if a_number % 2 == 0:# a % b gives us the remainder of dividing a by b\n",
    "        continue\n",
    "    print(a_number)"
   ]
  },
  {
   "cell_type": "code",
   "execution_count": 5,
   "metadata": {},
   "outputs": [
    {
     "name": "stdout",
     "output_type": "stream",
     "text": [
      "True\n",
      "True\n"
     ]
    }
   ],
   "source": [
    "print( 1 != 2 )\n",
    "print( not ( 1 == 2) )"
   ]
  },
  {
   "cell_type": "markdown",
   "metadata": {},
   "source": [
    "## List Comprehension \n",
    "It llows to build lists from other lists using a different notation which is essentially a one line for loop built inside of brackets"
   ]
  },
  {
   "cell_type": "code",
   "execution_count": 8,
   "metadata": {},
   "outputs": [
    {
     "name": "stdout",
     "output_type": "stream",
     "text": [
      "[1, 15, 3, 100, 20]\n"
     ]
    }
   ],
   "source": [
    "list1=[1,15,3,-1,-20,100,20]  # form a new list with only positive numbers\n",
    "list2=[x for x in list1 if x>0]\n",
    "print(list2)"
   ]
  },
  {
   "cell_type": "markdown",
   "metadata": {},
   "source": [
    "more [ https://docs.python.org/3/tutorial/index.html ]"
   ]
  }
 ],
 "metadata": {
  "kernelspec": {
   "display_name": "Python 3",
   "language": "python",
   "name": "python3"
  },
  "language_info": {
   "codemirror_mode": {
    "name": "ipython",
    "version": 3
   },
   "file_extension": ".py",
   "mimetype": "text/x-python",
   "name": "python",
   "nbconvert_exporter": "python",
   "pygments_lexer": "ipython3",
   "version": "3.8.5"
  }
 },
 "nbformat": 4,
 "nbformat_minor": 4
}
